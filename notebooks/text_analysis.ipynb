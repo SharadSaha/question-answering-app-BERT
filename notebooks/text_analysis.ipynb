{
  "nbformat": 4,
  "nbformat_minor": 0,
  "metadata": {
    "colab": {
      "name": "text-analysis.ipynb",
      "provenance": []
    },
    "kernelspec": {
      "name": "python3",
      "display_name": "Python 3"
    },
    "language_info": {
      "name": "python"
    }
  },
  "cells": [
    {
      "cell_type": "code",
      "execution_count": 1,
      "metadata": {
        "id": "qoChV7uLyZVQ"
      },
      "outputs": [],
      "source": [
        "import pandas as pd\n",
        "import numpy as np\n",
        "import matplotlib.pyplot as plt\n",
        "import matplotlib as mpl\n",
        "from wordcloud import WordCloud, STOPWORDS, ImageColorGenerator\n",
        "from PIL import Image"
      ]
    },
    {
      "cell_type": "code",
      "source": [
        "file_path = \"/content/t8.shakespeare.txt\"\n",
        "with open(file_path,'r') as f:\n",
        "  text = f.readlines()\n",
        "  f.close()"
      ],
      "metadata": {
        "id": "CmzjP2dyyvPe"
      },
      "execution_count": 36,
      "outputs": []
    },
    {
      "cell_type": "code",
      "source": [
        "text = (\" \".join(text))[10760:]"
      ],
      "metadata": {
        "id": "O6xe94gWz5Jz"
      },
      "execution_count": 37,
      "outputs": []
    },
    {
      "cell_type": "code",
      "source": [
        "text = text.strip()\n",
        "text = text.replace(\"\\n\",\"\")\n",
        "text = text.replace(\"\\t\",\"\")"
      ],
      "metadata": {
        "id": "0SUQI1Iv0ArW"
      },
      "execution_count": 38,
      "outputs": []
    },
    {
      "cell_type": "code",
      "source": [
        "text"
      ],
      "metadata": {
        "id": "CyxaQ7OR0Qor"
      },
      "execution_count": null,
      "outputs": []
    },
    {
      "cell_type": "markdown",
      "source": [
        "# **Text analysis**"
      ],
      "metadata": {
        "id": "Gvc5bnvd5QW9"
      }
    },
    {
      "cell_type": "code",
      "source": [
        "import spacy\n",
        "from spacy.lang.en.stop_words import STOP_WORDS"
      ],
      "metadata": {
        "id": "oxckoYb-1-fH"
      },
      "execution_count": 41,
      "outputs": []
    },
    {
      "cell_type": "markdown",
      "source": [
        "**Word count and character count**"
      ],
      "metadata": {
        "id": "7rA9Al0x5ThP"
      }
    },
    {
      "cell_type": "code",
      "source": [
        "data = text[:5000]"
      ],
      "metadata": {
        "id": "T5k7TpND5dOt"
      },
      "execution_count": 44,
      "outputs": []
    },
    {
      "cell_type": "code",
      "source": [
        "def get_counts(text):\n",
        "  word_count = len(text.split())\n",
        "  char_count = len(text)\n",
        "\n",
        "  return word_count,char_count"
      ],
      "metadata": {
        "id": "iv70CPMc4XH-"
      },
      "execution_count": 43,
      "outputs": []
    },
    {
      "cell_type": "code",
      "source": [
        "word_count,char_count = get_counts(data)\n",
        "print(\"Word count : \",word_count,\"\\nCharacter count : \",char_count)"
      ],
      "metadata": {
        "colab": {
          "base_uri": "https://localhost:8080/"
        },
        "id": "QiLBTM_L5O2U",
        "outputId": "934f6888-5b06-4003-e9f9-86d5f7fda41b"
      },
      "execution_count": 46,
      "outputs": [
        {
          "output_type": "stream",
          "name": "stdout",
          "text": [
            "Word count :  820 \n",
            "Character count :  5000\n"
          ]
        }
      ]
    },
    {
      "cell_type": "code",
      "source": [
        "def average_word_length(text):\n",
        "  words = text.split()\n",
        "  total_chars = 0\n",
        "  for word in words:\n",
        "    total_chars+=len(word)\n",
        "  return total_chars/len(words)"
      ],
      "metadata": {
        "id": "jt8eUymK5ros"
      },
      "execution_count": 47,
      "outputs": []
    },
    {
      "cell_type": "code",
      "source": [
        "avg_word_length = average_word_length(data)\n",
        "print(\"The average word length is : \", avg_word_length)"
      ],
      "metadata": {
        "colab": {
          "base_uri": "https://localhost:8080/"
        },
        "id": "rVjtD7Y76UjE",
        "outputId": "592c07a9-8733-48f6-b988-3d41de3028aa"
      },
      "execution_count": 48,
      "outputs": [
        {
          "output_type": "stream",
          "name": "stdout",
          "text": [
            "The average word length is :  4.5963414634146345\n"
          ]
        }
      ]
    },
    {
      "cell_type": "markdown",
      "source": [
        "### **Stop words**"
      ],
      "metadata": {
        "id": "bmxDnuD87QDN"
      }
    },
    {
      "cell_type": "code",
      "source": [
        "def get_stop_words(text):\n",
        "  text = text.lower()\n",
        "  stop_words = [x for x in text.split() if x in STOP_WORDS]\n",
        "  return stop_words, len(stop_words)"
      ],
      "metadata": {
        "id": "nxvJz50x6fak"
      },
      "execution_count": 50,
      "outputs": []
    },
    {
      "cell_type": "code",
      "source": [
        "stop_words,sw_count = get_stop_words(data)"
      ],
      "metadata": {
        "id": "QfJZ3gFW7PHV"
      },
      "execution_count": 51,
      "outputs": []
    },
    {
      "cell_type": "code",
      "source": [
        "sw_count"
      ],
      "metadata": {
        "colab": {
          "base_uri": "https://localhost:8080/"
        },
        "id": "LM4ucUnl7ZNt",
        "outputId": "6ae42246-e638-427d-a6be-8f0175ddfc7c"
      },
      "execution_count": 53,
      "outputs": [
        {
          "output_type": "execute_result",
          "data": {
            "text/plain": [
              "331"
            ]
          },
          "metadata": {},
          "execution_count": 53
        }
      ]
    },
    {
      "cell_type": "markdown",
      "source": [
        "### **Get emails and URLS present in text**"
      ],
      "metadata": {
        "id": "UUj9uahm8LbH"
      }
    },
    {
      "cell_type": "code",
      "source": [
        "import re\n",
        "\n",
        "def extractEmailsURLs(text):\n",
        "  emails = re.findall('\\S+@\\S+', text)\n",
        "  urls = re.findall('https?://(?:[-\\w.]|(?:%[\\da-fA-F]{2}))+', text)\n",
        "  return emails,urls"
      ],
      "metadata": {
        "id": "AdiBzzj_7a1t"
      },
      "execution_count": 54,
      "outputs": []
    },
    {
      "cell_type": "code",
      "source": [
        "s = '''Now a days you can learn almost anything by just visiting http://www.google.com. But if you are completely new to computers or internet then first you need to leanr those fundamentals. Next\n",
        "you can visit my email sahasharad29@gmail.com or a good e-learning site like - https://www.tutorialspoint.com to learn further on a variety of subjects.'''"
      ],
      "metadata": {
        "id": "SWN1-k3t8zoV"
      },
      "execution_count": 55,
      "outputs": []
    },
    {
      "cell_type": "code",
      "source": [
        "emails, urls = extractEmailsURLs(s)"
      ],
      "metadata": {
        "id": "RKcHmXnw8_Ak"
      },
      "execution_count": 56,
      "outputs": []
    },
    {
      "cell_type": "code",
      "source": [
        "emails,urls"
      ],
      "metadata": {
        "colab": {
          "base_uri": "https://localhost:8080/"
        },
        "id": "wtLNkjFF9FIF",
        "outputId": "f66269b2-616b-4e70-859f-c8a370fec541"
      },
      "execution_count": 57,
      "outputs": [
        {
          "output_type": "execute_result",
          "data": {
            "text/plain": [
              "(['sahasharad29@gmail.com'],\n",
              " ['http://www.google.com.', 'https://www.tutorialspoint.com'])"
            ]
          },
          "metadata": {},
          "execution_count": 57
        }
      ]
    },
    {
      "cell_type": "markdown",
      "source": [
        "### **Stopwords removal, lemmatization and preprocessing**"
      ],
      "metadata": {
        "id": "3ZZU9eoO9h_P"
      }
    },
    {
      "cell_type": "code",
      "source": [
        "def preprocess(text):\n",
        "  text_without_stop_words = \" \".join([x for x in text.split() if x not in STOP_WORDS])\n",
        "  \n",
        "  nlp = spacy.load('en_core_web_sm')\n",
        "  doc = nlp(text_without_stop_words)\n",
        "  lemmas = []\n",
        "  for token in doc:\n",
        "    lemma = str(token.lemma_)\n",
        "    if lemma == '-PRON-' or lemma == 'be':\n",
        "      lemma = token.text\n",
        "    lemmas.append(lemma)\n",
        "  text = \" \".join(lemmas)\n",
        "\n",
        "  return text"
      ],
      "metadata": {
        "id": "wvEJ-WNP9GFM"
      },
      "execution_count": 58,
      "outputs": []
    },
    {
      "cell_type": "code",
      "source": [
        "preprocessed_data = preprocess(data)\n",
        "preprocessed_data"
      ],
      "metadata": {
        "colab": {
          "base_uri": "https://localhost:8080/",
          "height": 140
        },
        "id": "HFOzTZXK_JuO",
        "outputId": "d3d51ebe-a13d-46e2-9c51-f7cd44fc5874"
      },
      "execution_count": 59,
      "outputs": [
        {
          "output_type": "execute_result",
          "data": {
            "text/plain": [
              "\"1 from fair creature desire increase , that beauty 's rose die , but riper time decease , his tender heir bear memory : but thou contract thine bright eye , Feed'st thy light 's flame self - substantial fuel , make famine abundance lie , thy self thy foe , thy sweet self cruel : Thou art world 's fresh ornament , and herald gaudy spring , within thine bud buriest thy content , and tender churl mak'st waste niggarding : pity world , glutton be , to eat world 's due , grave thee . 2 when winter shall besiege thy brow , and dig deep trench thy beauty 's field , Thy youth 's proud livery gaze now , will tattere weed small worth hold : then ask , thy beauty lie , where treasure thy lusty day ; to thine deep sunken eye , Were all - eat shame , thriftless praise . how praise deserve thy beauty 's use , if thou couldst answer ' this fair child shall sum count , old excuse ' prove beauty succession thine . this new thou art old , and thy blood warm thou feel'st cold . 3 look thy glass tell face thou viewest , now time face form another , whose fresh repair thou renew , Thou dost beguile world , unbless mother . for fair uneared womb disdain tillage thy husbandry ? or fond tomb , of self - love stop posterity ? Thou art thy mother 's glass thee call lovely April prime , so thou windows thine age shalt see , despite wrinkle thy golden time . but thou live remember be , die single thine image die thee . 4 Unthrifty loveliness dost thou spend , upon thy self thy beauty 's legacy ? nature 's bequest give doth lend , and frank lend free : then beauteous niggard dost thou abuse , the bounteous largess give thee give ? profitless usurer dost thou use so great sum sum canst live ? for have traffic thy self alone , Thou thy self thy sweet self dost deceive , then nature call thee gone , what acceptable audit canst thou leave ? thy unused beauty tombe thee , which live th ' executor be . 5 those hour gentle work frame the lovely gaze eye doth dwell will play tyrant same , and unfair fairly doth excel : for never - rest time lead summer to hideous winter confound there , Sap check frost lusty leave go , Beauty o'er - snow bareness where : then summer 's distillation leave a liquid prisoner pent wall glass , Beauty 's effect beauty bereft , nor remembrance was . but flower distil winter meet , leese show , substance live sweet . 6 then let winter 's ragged hand deface , in thee thy summer ere thou distil : make sweet vial ; treasure thou place , with beauty 's treasure ere self - kill : that use forbid usury , which happie pay willing loan ; that 's thy self breed thee , or time happy one , ten time thy self happy thou art , if thine time refigure thee : then death thou shouldst depart , leave thee living posterity ? Be self - willed thou art fair , to death 's conquest worm thine heir . 7 Lo orient gracious light lift burn head , eye Doth homage new - appear sight , serve look sacred majesty , and having climb steep - up heavenly hill , resemble strong youth middle age , yet mortal look adore beauty still , attend golden pilgrimage : but highmost pitch weary car , like feeble age reeleth day , the eye ( fore duteous ) convert from low tract look way : so thou , thy self out - go thy noon : unlooke di thou son . 8 music hear , hear'st thou music sadly ? sweet sweet war not , joy delight joy : why lov'st thou thou receiv'st gladly , or receiv'st pleasure thine annoy ? if true concord well - tune sound , by union marry offend thine ear , they sweetly chide thee , confound in singleness\""
            ],
            "application/vnd.google.colaboratory.intrinsic+json": {
              "type": "string"
            }
          },
          "metadata": {},
          "execution_count": 59
        }
      ]
    },
    {
      "cell_type": "markdown",
      "source": [
        "### **Wordcloud visualization**"
      ],
      "metadata": {
        "id": "7SyPVzF7_eJP"
      }
    },
    {
      "cell_type": "code",
      "source": [
        "def plot_word_cloud(text,width,height):\n",
        "  wc = WordCloud(width=width,height=height).generate(text)\n",
        "  plt.imshow(wc)\n",
        "  plt.axis('off')\n",
        "  plt.show()"
      ],
      "metadata": {
        "id": "Xc9D8Hg1_VmF"
      },
      "execution_count": 61,
      "outputs": []
    },
    {
      "cell_type": "code",
      "source": [
        "plot_word_cloud(preprocessed_data,1600,1000)"
      ],
      "metadata": {
        "colab": {
          "base_uri": "https://localhost:8080/",
          "height": 240
        },
        "id": "3Uqs9ChSAaVX",
        "outputId": "031c48d5-7d63-4d89-e238-c91a9c76b7b2"
      },
      "execution_count": 64,
      "outputs": [
        {
          "output_type": "display_data",
          "data": {
            "text/plain": [
              "<Figure size 432x288 with 1 Axes>"
            ],
            "image/png": "[encoded data removed]"
          },
          "metadata": {
            "needs_background": "light"
          }
        }
      ]
    },
    {
      "cell_type": "markdown",
      "source": [
        "### **Named entity recognition**"
      ],
      "metadata": {
        "id": "85ywxOFDBeHU"
      }
    },
    {
      "cell_type": "code",
      "source": [
        "class NamedEntity:\n",
        "  def __init__(self,text,label,explanation):\n",
        "    self.text = text\n",
        "    self.label = label\n",
        "    self.explanation = explanation\n",
        "\n",
        "def get_named_entities(text):\n",
        "  nlp = spacy.load('en_core_web_sm')\n",
        "  doc = nlp(text)\n",
        "\n",
        "  named_entities = []\n",
        "  for ent in doc.ents:\n",
        "    entity = NamedEntity(ent.text,ent.label_,str(spacy.explain(ent.label_)))\n",
        "    named_entities.append(entity)\n",
        "  return named_entities"
      ],
      "metadata": {
        "id": "L0XqEQxpAfpe"
      },
      "execution_count": 67,
      "outputs": []
    },
    {
      "cell_type": "code",
      "source": [
        "ner_data = '''Several intended recipients, including musician Hemanta Kumar Mukherjee, sitar player Vilayat Khan,[7] academic and author Mamoni Raisom Goswami,[8] journalist Kanak Sen Deka[9] and noted Bollywood screenwriter Salim Khan, have declined the Padma Shri for various reasons.[10] Some intended recipients, such as environmental activist Sunderlal Bahuguna[11] and English billiards champion Michael Ferreira,[9] have refused the honour but have subsequently accepted a more prestigious one such as the Padma Bhushan or Padma Vibhushan. Other individuals, such as film-maker Aribam Syam Sharma,[12] author Phanishwar Nath 'Renu'\n",
        ",[13] Punjabi author Dalip Kaur Tiwana[14] and noted poet Jayanta Mahapatra,[15] have returned the honour after initially accepting it.\n",
        "In 2022, renowned Bengali singer \"Gitashri\" Sandhya Mukhopadhyay, 90 turned down her offer for the Padma Shri award on the eve of the 73rd Republic Day of India. As per media reports, the veteran singer turned the offer since she believes that her career spanning eight decades deserved a higher award than the Padma Shri. \"Padma Shri is more deserving for a junior artiste\", her daughter said.[16] Based on her refusal, her name was not included in the Padma awardees list for 2022.'''\n",
        "\n",
        "named_entities = get_named_entities(ner_data)\n",
        "for entity in named_entities:\n",
        "  print(entity.text,\" - \",entity.label,\" - \",entity.explanation)"
      ],
      "metadata": {
        "colab": {
          "base_uri": "https://localhost:8080/"
        },
        "id": "6YdA_8XaCoXT",
        "outputId": "d9521a08-8d2c-4a1c-dbab-6dab0e7e5e56"
      },
      "execution_count": 79,
      "outputs": [
        {
          "output_type": "stream",
          "name": "stdout",
          "text": [
            "Kumar Mukherjee  -  PERSON  -  People, including fictional\n",
            "Vilayat Khan,[7  -  PERSON  -  People, including fictional\n",
            "Mamoni Raisom  -  PERSON  -  People, including fictional\n",
            "Kanak Sen Deka[9  -  PERSON  -  People, including fictional\n",
            "Bollywood  -  PERSON  -  People, including fictional\n",
            "Salim Khan  -  PERSON  -  People, including fictional\n",
            "the Padma Shri  -  LAW  -  Named documents made into laws.\n",
            "Sunderlal  -  GPE  -  Countries, cities, states\n",
            "English  -  LANGUAGE  -  Any named language\n",
            "Michael Ferreira,[9  -  PERSON  -  People, including fictional\n",
            "one  -  CARDINAL  -  Numerals that do not fall under another type\n",
            "Padma Vibhushan  -  GPE  -  Countries, cities, states\n",
            "Aribam Syam  -  ORG  -  Companies, agencies, institutions, etc.\n",
            "Phanishwar Nath 'Renu'  -  PERSON  -  People, including fictional\n",
            "13  -  CARDINAL  -  Numerals that do not fall under another type\n",
            "Dalip Kaur Tiwana[14  -  ORG  -  Companies, agencies, institutions, etc.\n",
            "Jayanta Mahapatra,[15  -  PERSON  -  People, including fictional\n",
            "2022  -  DATE  -  Absolute or relative dates or periods\n",
            "Bengali  -  NORP  -  Nationalities or religious or political groups\n",
            "Gitashri\" Sandhya Mukhopadhyay  -  WORK_OF_ART  -  Titles of books, songs, etc.\n",
            "90  -  CARDINAL  -  Numerals that do not fall under another type\n",
            "the Padma Shri  -  WORK_OF_ART  -  Titles of books, songs, etc.\n",
            "the eve of the 73rd Republic Day  -  DATE  -  Absolute or relative dates or periods\n",
            "India  -  GPE  -  Countries, cities, states\n",
            "eight decades  -  DATE  -  Absolute or relative dates or periods\n",
            "the Padma Shri  -  PRODUCT  -  Objects, vehicles, foods, etc. (not services)\n",
            "Padma Shri  -  WORK_OF_ART  -  Titles of books, songs, etc.\n",
            "Padma  -  ORG  -  Companies, agencies, institutions, etc.\n",
            "2022  -  DATE  -  Absolute or relative dates or periods\n"
          ]
        }
      ]
    },
    {
      "cell_type": "code",
      "source": [
        "from spacy import displacy\n",
        "\n",
        "def render_ner(text):\n",
        "  nlp = spacy.load('en_core_web_sm')\n",
        "  doc = nlp(text)\n",
        "\n",
        "  displacy.render(doc,style='ent')\n",
        "  plt.show()"
      ],
      "metadata": {
        "id": "v9N41WYtC_BT"
      },
      "execution_count": 80,
      "outputs": []
    },
    {
      "cell_type": "code",
      "source": [
        "nlp = spacy.load('en_core_web_sm')\n",
        "doc = nlp(ner_data)\n",
        "\n",
        "displacy.render(doc,style='ent',jupyter=True)"
      ],
      "metadata": {
        "colab": {
          "base_uri": "https://localhost:8080/",
          "height": 367
        },
        "id": "elgQYNwWEzhT",
        "outputId": "50041791-c999-482a-e47a-fb062e64968d"
      },
      "execution_count": 81,
      "outputs": [
        {
          "output_type": "display_data",
          "data": {
            "text/plain": [
              "<IPython.core.display.HTML object>"
            ],
            "text/html": [
              "<span class=\"tex2jax_ignore\"><div class=\"entities\" style=\"line-height: 2.5; direction: ltr\">Several intended recipients, including musician Hemanta \n",
              "<mark class=\"entity\" style=\"background: #aa9cfc; padding: 0.45em 0.6em; margin: 0 0.25em; line-height: 1; border-radius: 0.35em;\">\n",
              "    Kumar Mukherjee\n",
              "    <span style=\"font-size: 0.8em; font-weight: bold; line-height: 1; border-radius: 0.35em; vertical-align: middle; margin-left: 0.5rem\">PERSON</span>\n",
              "</mark>\n",
              ", sitar player \n",
              "<mark class=\"entity\" style=\"background: #aa9cfc; padding: 0.45em 0.6em; margin: 0 0.25em; line-height: 1; border-radius: 0.35em;\">\n",
              "    Vilayat Khan,[7\n",
              "    <span style=\"font-size: 0.8em; font-weight: bold; line-height: 1; border-radius: 0.35em; vertical-align: middle; margin-left: 0.5rem\">PERSON</span>\n",
              "</mark>\n",
              "] academic and author \n",
              "<mark class=\"entity\" style=\"background: #aa9cfc; padding: 0.45em 0.6em; margin: 0 0.25em; line-height: 1; border-radius: 0.35em;\">\n",
              "    Mamoni Raisom\n",
              "    <span style=\"font-size: 0.8em; font-weight: bold; line-height: 1; border-radius: 0.35em; vertical-align: middle; margin-left: 0.5rem\">PERSON</span>\n",
              "</mark>\n",
              " Goswami,[8] journalist \n",
              "<mark class=\"entity\" style=\"background: #aa9cfc; padding: 0.45em 0.6em; margin: 0 0.25em; line-height: 1; border-radius: 0.35em;\">\n",
              "    Kanak Sen Deka[9\n",
              "    <span style=\"font-size: 0.8em; font-weight: bold; line-height: 1; border-radius: 0.35em; vertical-align: middle; margin-left: 0.5rem\">PERSON</span>\n",
              "</mark>\n",
              "] and noted \n",
              "<mark class=\"entity\" style=\"background: #aa9cfc; padding: 0.45em 0.6em; margin: 0 0.25em; line-height: 1; border-radius: 0.35em;\">\n",
              "    Bollywood\n",
              "    <span style=\"font-size: 0.8em; font-weight: bold; line-height: 1; border-radius: 0.35em; vertical-align: middle; margin-left: 0.5rem\">PERSON</span>\n",
              "</mark>\n",
              " screenwriter \n",
              "<mark class=\"entity\" style=\"background: #aa9cfc; padding: 0.45em 0.6em; margin: 0 0.25em; line-height: 1; border-radius: 0.35em;\">\n",
              "    Salim Khan\n",
              "    <span style=\"font-size: 0.8em; font-weight: bold; line-height: 1; border-radius: 0.35em; vertical-align: middle; margin-left: 0.5rem\">PERSON</span>\n",
              "</mark>\n",
              ", have declined \n",
              "<mark class=\"entity\" style=\"background: #ff8197; padding: 0.45em 0.6em; margin: 0 0.25em; line-height: 1; border-radius: 0.35em;\">\n",
              "    the Padma Shri\n",
              "    <span style=\"font-size: 0.8em; font-weight: bold; line-height: 1; border-radius: 0.35em; vertical-align: middle; margin-left: 0.5rem\">LAW</span>\n",
              "</mark>\n",
              " for various reasons.[10] Some intended recipients, such as environmental activist \n",
              "<mark class=\"entity\" style=\"background: #feca74; padding: 0.45em 0.6em; margin: 0 0.25em; line-height: 1; border-radius: 0.35em;\">\n",
              "    Sunderlal\n",
              "    <span style=\"font-size: 0.8em; font-weight: bold; line-height: 1; border-radius: 0.35em; vertical-align: middle; margin-left: 0.5rem\">GPE</span>\n",
              "</mark>\n",
              " Bahuguna[11] and \n",
              "<mark class=\"entity\" style=\"background: #ff8197; padding: 0.45em 0.6em; margin: 0 0.25em; line-height: 1; border-radius: 0.35em;\">\n",
              "    English\n",
              "    <span style=\"font-size: 0.8em; font-weight: bold; line-height: 1; border-radius: 0.35em; vertical-align: middle; margin-left: 0.5rem\">LANGUAGE</span>\n",
              "</mark>\n",
              " billiards champion \n",
              "<mark class=\"entity\" style=\"background: #aa9cfc; padding: 0.45em 0.6em; margin: 0 0.25em; line-height: 1; border-radius: 0.35em;\">\n",
              "    Michael Ferreira,[9\n",
              "    <span style=\"font-size: 0.8em; font-weight: bold; line-height: 1; border-radius: 0.35em; vertical-align: middle; margin-left: 0.5rem\">PERSON</span>\n",
              "</mark>\n",
              "] have refused the honour but have subsequently accepted a more prestigious \n",
              "<mark class=\"entity\" style=\"background: #e4e7d2; padding: 0.45em 0.6em; margin: 0 0.25em; line-height: 1; border-radius: 0.35em;\">\n",
              "    one\n",
              "    <span style=\"font-size: 0.8em; font-weight: bold; line-height: 1; border-radius: 0.35em; vertical-align: middle; margin-left: 0.5rem\">CARDINAL</span>\n",
              "</mark>\n",
              " such as the Padma Bhushan or \n",
              "<mark class=\"entity\" style=\"background: #feca74; padding: 0.45em 0.6em; margin: 0 0.25em; line-height: 1; border-radius: 0.35em;\">\n",
              "    Padma Vibhushan\n",
              "    <span style=\"font-size: 0.8em; font-weight: bold; line-height: 1; border-radius: 0.35em; vertical-align: middle; margin-left: 0.5rem\">GPE</span>\n",
              "</mark>\n",
              ". Other individuals, such as film-maker \n",
              "<mark class=\"entity\" style=\"background: #7aecec; padding: 0.45em 0.6em; margin: 0 0.25em; line-height: 1; border-radius: 0.35em;\">\n",
              "    Aribam Syam\n",
              "    <span style=\"font-size: 0.8em; font-weight: bold; line-height: 1; border-radius: 0.35em; vertical-align: middle; margin-left: 0.5rem\">ORG</span>\n",
              "</mark>\n",
              " Sharma,[12] author \n",
              "<mark class=\"entity\" style=\"background: #aa9cfc; padding: 0.45em 0.6em; margin: 0 0.25em; line-height: 1; border-radius: 0.35em;\">\n",
              "    Phanishwar Nath 'Renu'\n",
              "    <span style=\"font-size: 0.8em; font-weight: bold; line-height: 1; border-radius: 0.35em; vertical-align: middle; margin-left: 0.5rem\">PERSON</span>\n",
              "</mark>\n",
              "</br>,[\n",
              "<mark class=\"entity\" style=\"background: #e4e7d2; padding: 0.45em 0.6em; margin: 0 0.25em; line-height: 1; border-radius: 0.35em;\">\n",
              "    13\n",
              "    <span style=\"font-size: 0.8em; font-weight: bold; line-height: 1; border-radius: 0.35em; vertical-align: middle; margin-left: 0.5rem\">CARDINAL</span>\n",
              "</mark>\n",
              "] Punjabi author \n",
              "<mark class=\"entity\" style=\"background: #7aecec; padding: 0.45em 0.6em; margin: 0 0.25em; line-height: 1; border-radius: 0.35em;\">\n",
              "    Dalip Kaur Tiwana[14\n",
              "    <span style=\"font-size: 0.8em; font-weight: bold; line-height: 1; border-radius: 0.35em; vertical-align: middle; margin-left: 0.5rem\">ORG</span>\n",
              "</mark>\n",
              "] and noted poet \n",
              "<mark class=\"entity\" style=\"background: #aa9cfc; padding: 0.45em 0.6em; margin: 0 0.25em; line-height: 1; border-radius: 0.35em;\">\n",
              "    Jayanta Mahapatra,[15\n",
              "    <span style=\"font-size: 0.8em; font-weight: bold; line-height: 1; border-radius: 0.35em; vertical-align: middle; margin-left: 0.5rem\">PERSON</span>\n",
              "</mark>\n",
              "] have returned the honour after initially accepting it.</br>In \n",
              "<mark class=\"entity\" style=\"background: #bfe1d9; padding: 0.45em 0.6em; margin: 0 0.25em; line-height: 1; border-radius: 0.35em;\">\n",
              "    2022\n",
              "    <span style=\"font-size: 0.8em; font-weight: bold; line-height: 1; border-radius: 0.35em; vertical-align: middle; margin-left: 0.5rem\">DATE</span>\n",
              "</mark>\n",
              ", renowned \n",
              "<mark class=\"entity\" style=\"background: #c887fb; padding: 0.45em 0.6em; margin: 0 0.25em; line-height: 1; border-radius: 0.35em;\">\n",
              "    Bengali\n",
              "    <span style=\"font-size: 0.8em; font-weight: bold; line-height: 1; border-radius: 0.35em; vertical-align: middle; margin-left: 0.5rem\">NORP</span>\n",
              "</mark>\n",
              " singer &quot;\n",
              "<mark class=\"entity\" style=\"background: #f0d0ff; padding: 0.45em 0.6em; margin: 0 0.25em; line-height: 1; border-radius: 0.35em;\">\n",
              "    Gitashri&quot; Sandhya Mukhopadhyay\n",
              "    <span style=\"font-size: 0.8em; font-weight: bold; line-height: 1; border-radius: 0.35em; vertical-align: middle; margin-left: 0.5rem\">WORK_OF_ART</span>\n",
              "</mark>\n",
              ", \n",
              "<mark class=\"entity\" style=\"background: #e4e7d2; padding: 0.45em 0.6em; margin: 0 0.25em; line-height: 1; border-radius: 0.35em;\">\n",
              "    90\n",
              "    <span style=\"font-size: 0.8em; font-weight: bold; line-height: 1; border-radius: 0.35em; vertical-align: middle; margin-left: 0.5rem\">CARDINAL</span>\n",
              "</mark>\n",
              " turned down her offer for \n",
              "<mark class=\"entity\" style=\"background: #f0d0ff; padding: 0.45em 0.6em; margin: 0 0.25em; line-height: 1; border-radius: 0.35em;\">\n",
              "    the Padma Shri\n",
              "    <span style=\"font-size: 0.8em; font-weight: bold; line-height: 1; border-radius: 0.35em; vertical-align: middle; margin-left: 0.5rem\">WORK_OF_ART</span>\n",
              "</mark>\n",
              " award on \n",
              "<mark class=\"entity\" style=\"background: #bfe1d9; padding: 0.45em 0.6em; margin: 0 0.25em; line-height: 1; border-radius: 0.35em;\">\n",
              "    the eve of the 73rd Republic Day\n",
              "    <span style=\"font-size: 0.8em; font-weight: bold; line-height: 1; border-radius: 0.35em; vertical-align: middle; margin-left: 0.5rem\">DATE</span>\n",
              "</mark>\n",
              " of \n",
              "<mark class=\"entity\" style=\"background: #feca74; padding: 0.45em 0.6em; margin: 0 0.25em; line-height: 1; border-radius: 0.35em;\">\n",
              "    India\n",
              "    <span style=\"font-size: 0.8em; font-weight: bold; line-height: 1; border-radius: 0.35em; vertical-align: middle; margin-left: 0.5rem\">GPE</span>\n",
              "</mark>\n",
              ". As per media reports, the veteran singer turned the offer since she believes that her career spanning \n",
              "<mark class=\"entity\" style=\"background: #bfe1d9; padding: 0.45em 0.6em; margin: 0 0.25em; line-height: 1; border-radius: 0.35em;\">\n",
              "    eight decades\n",
              "    <span style=\"font-size: 0.8em; font-weight: bold; line-height: 1; border-radius: 0.35em; vertical-align: middle; margin-left: 0.5rem\">DATE</span>\n",
              "</mark>\n",
              " deserved a higher award than \n",
              "<mark class=\"entity\" style=\"background: #bfeeb7; padding: 0.45em 0.6em; margin: 0 0.25em; line-height: 1; border-radius: 0.35em;\">\n",
              "    the Padma Shri\n",
              "    <span style=\"font-size: 0.8em; font-weight: bold; line-height: 1; border-radius: 0.35em; vertical-align: middle; margin-left: 0.5rem\">PRODUCT</span>\n",
              "</mark>\n",
              ". &quot;\n",
              "<mark class=\"entity\" style=\"background: #f0d0ff; padding: 0.45em 0.6em; margin: 0 0.25em; line-height: 1; border-radius: 0.35em;\">\n",
              "    Padma Shri\n",
              "    <span style=\"font-size: 0.8em; font-weight: bold; line-height: 1; border-radius: 0.35em; vertical-align: middle; margin-left: 0.5rem\">WORK_OF_ART</span>\n",
              "</mark>\n",
              " is more deserving for a junior artiste&quot;, her daughter said.[16] Based on her refusal, her name was not included in the \n",
              "<mark class=\"entity\" style=\"background: #7aecec; padding: 0.45em 0.6em; margin: 0 0.25em; line-height: 1; border-radius: 0.35em;\">\n",
              "    Padma\n",
              "    <span style=\"font-size: 0.8em; font-weight: bold; line-height: 1; border-radius: 0.35em; vertical-align: middle; margin-left: 0.5rem\">ORG</span>\n",
              "</mark>\n",
              " awardees list for \n",
              "<mark class=\"entity\" style=\"background: #bfe1d9; padding: 0.45em 0.6em; margin: 0 0.25em; line-height: 1; border-radius: 0.35em;\">\n",
              "    2022\n",
              "    <span style=\"font-size: 0.8em; font-weight: bold; line-height: 1; border-radius: 0.35em; vertical-align: middle; margin-left: 0.5rem\">DATE</span>\n",
              "</mark>\n",
              ".</div></span>"
            ]
          },
          "metadata": {}
        }
      ]
    },
    {
      "cell_type": "markdown",
      "source": [
        "### **POS tagging**"
      ],
      "metadata": {
        "id": "43vCDvtVGvhU"
      }
    },
    {
      "cell_type": "code",
      "source": [
        "def pos(text):\n",
        "  nlp = spacy.load(\"en_core_web_sm\")\n",
        "  doc = nlp(text)\n",
        "\n",
        "  for token in doc:\n",
        "      print(token.text,\" - \", token.pos_,\" - \", token.tag_,\" - \", token.dep_,\" - \",token.shape_)"
      ],
      "metadata": {
        "id": "o4O_6gt-GOiA"
      },
      "execution_count": 87,
      "outputs": []
    },
    {
      "cell_type": "code",
      "source": [
        "pos(\"Hey there! My name is Sharad.\")"
      ],
      "metadata": {
        "colab": {
          "base_uri": "https://localhost:8080/"
        },
        "id": "t0j68gJiHFJV",
        "outputId": "a1974655-693a-4a17-95fe-8ef022e04b85"
      },
      "execution_count": 88,
      "outputs": [
        {
          "output_type": "stream",
          "name": "stdout",
          "text": [
            "Hey  -  INTJ  -  UH  -  intj  -  Xxx\n",
            "there  -  ADV  -  RB  -  ROOT  -  xxxx\n",
            "!  -  PUNCT  -  .  -  punct  -  !\n",
            "My  -  PRON  -  PRP$  -  poss  -  Xx\n",
            "name  -  NOUN  -  NN  -  nsubj  -  xxxx\n",
            "is  -  AUX  -  VBZ  -  ROOT  -  xx\n",
            "Sharad  -  PROPN  -  NNP  -  attr  -  Xxxxx\n",
            ".  -  PUNCT  -  .  -  punct  -  .\n"
          ]
        }
      ]
    },
    {
      "cell_type": "markdown",
      "source": [
        "### **Named Entity recognition using BERT pretrained model**"
      ],
      "metadata": {
        "id": "X_JBA7BFOZNk"
      }
    },
    {
      "cell_type": "code",
      "source": [
        "! pip install transformers"
      ],
      "metadata": {
        "colab": {
          "base_uri": "https://localhost:8080/"
        },
        "id": "KSS_XdruLBUD",
        "outputId": "50315f7c-4cca-41a4-edca-8b0457d1aa81"
      },
      "execution_count": 89,
      "outputs": [
        {
          "output_type": "stream",
          "name": "stdout",
          "text": [
            "Looking in indexes: https://pypi.org/simple, https://us-python.pkg.dev/colab-wheels/public/simple/\n",
            "Collecting transformers\n",
            "  Downloading transformers-4.20.1-py3-none-any.whl (4.4 MB)\n",
            "\u001b[K     |████████████████████████████████| 4.4 MB 5.0 MB/s \n",
            "\u001b[?25hRequirement already satisfied: requests in /usr/local/lib/python3.7/dist-packages (from transformers) (2.23.0)\n",
            "Collecting huggingface-hub<1.0,>=0.1.0\n",
            "  Downloading huggingface_hub-0.8.1-py3-none-any.whl (101 kB)\n",
            "\u001b[K     |████████████████████████████████| 101 kB 9.2 MB/s \n",
            "\u001b[?25hRequirement already satisfied: packaging>=20.0 in /usr/local/lib/python3.7/dist-packages (from transformers) (21.3)\n",
            "Requirement already satisfied: importlib-metadata in /usr/local/lib/python3.7/dist-packages (from transformers) (4.11.4)\n",
            "Collecting tokenizers!=0.11.3,<0.13,>=0.11.1\n",
            "  Downloading tokenizers-0.12.1-cp37-cp37m-manylinux_2_12_x86_64.manylinux2010_x86_64.whl (6.6 MB)\n",
            "\u001b[K     |████████████████████████████████| 6.6 MB 34.8 MB/s \n",
            "\u001b[?25hRequirement already satisfied: filelock in /usr/local/lib/python3.7/dist-packages (from transformers) (3.7.1)\n",
            "Collecting pyyaml>=5.1\n",
            "  Downloading PyYAML-6.0-cp37-cp37m-manylinux_2_5_x86_64.manylinux1_x86_64.manylinux_2_12_x86_64.manylinux2010_x86_64.whl (596 kB)\n",
            "\u001b[K     |████████████████████████████████| 596 kB 65.2 MB/s \n",
            "\u001b[?25hRequirement already satisfied: tqdm>=4.27 in /usr/local/lib/python3.7/dist-packages (from transformers) (4.64.0)\n",
            "Requirement already satisfied: numpy>=1.17 in /usr/local/lib/python3.7/dist-packages (from transformers) (1.21.6)\n",
            "Requirement already satisfied: regex!=2019.12.17 in /usr/local/lib/python3.7/dist-packages (from transformers) (2022.6.2)\n",
            "Requirement already satisfied: typing-extensions>=3.7.4.3 in /usr/local/lib/python3.7/dist-packages (from huggingface-hub<1.0,>=0.1.0->transformers) (4.1.1)\n",
            "Requirement already satisfied: pyparsing!=3.0.5,>=2.0.2 in /usr/local/lib/python3.7/dist-packages (from packaging>=20.0->transformers) (3.0.9)\n",
            "Requirement already satisfied: zipp>=0.5 in /usr/local/lib/python3.7/dist-packages (from importlib-metadata->transformers) (3.8.0)\n",
            "Requirement already satisfied: certifi>=2017.4.17 in /usr/local/lib/python3.7/dist-packages (from requests->transformers) (2022.6.15)\n",
            "Requirement already satisfied: idna<3,>=2.5 in /usr/local/lib/python3.7/dist-packages (from requests->transformers) (2.10)\n",
            "Requirement already satisfied: urllib3!=1.25.0,!=1.25.1,<1.26,>=1.21.1 in /usr/local/lib/python3.7/dist-packages (from requests->transformers) (1.24.3)\n",
            "Requirement already satisfied: chardet<4,>=3.0.2 in /usr/local/lib/python3.7/dist-packages (from requests->transformers) (3.0.4)\n",
            "Installing collected packages: pyyaml, tokenizers, huggingface-hub, transformers\n",
            "  Attempting uninstall: pyyaml\n",
            "    Found existing installation: PyYAML 3.13\n",
            "    Uninstalling PyYAML-3.13:\n",
            "      Successfully uninstalled PyYAML-3.13\n",
            "Successfully installed huggingface-hub-0.8.1 pyyaml-6.0 tokenizers-0.12.1 transformers-4.20.1\n"
          ]
        }
      ]
    },
    {
      "cell_type": "markdown",
      "source": [
        "**Loading pretrained model from Hugging Face**"
      ],
      "metadata": {
        "id": "HsyE8mSUOgNB"
      }
    },
    {
      "cell_type": "code",
      "source": [
        "from transformers import AutoTokenizer, AutoModelForTokenClassification\n",
        "from transformers import pipeline\n",
        "\n",
        "tokenizer = AutoTokenizer.from_pretrained(\"dslim/bert-base-NER\")\n",
        "model = AutoModelForTokenClassification.from_pretrained(\"dslim/bert-base-NER\")"
      ],
      "metadata": {
        "id": "_ECiJ9LjK__l"
      },
      "execution_count": 91,
      "outputs": []
    },
    {
      "cell_type": "code",
      "source": [
        "nlp = pipeline(\"ner\", model=model, tokenizer=tokenizer)\n",
        "\n",
        "ner_results = nlp(preprocess(ner_data))\n",
        "print(ner_results)"
      ],
      "metadata": {
        "colab": {
          "base_uri": "https://localhost:8080/"
        },
        "id": "ZkMn8V-ILHV5",
        "outputId": "f4909639-261b-4eef-c884-61d8b6dd6ee6"
      },
      "execution_count": 102,
      "outputs": [
        {
          "output_type": "stream",
          "name": "stdout",
          "text": [
            "[{'entity': 'B-PER', 'score': 0.99969876, 'index': 7, 'word': 'He', 'start': 44, 'end': 46}, {'entity': 'B-PER', 'score': 0.52190495, 'index': 8, 'word': '##man', 'start': 46, 'end': 49}, {'entity': 'B-PER', 'score': 0.9405298, 'index': 9, 'word': '##ta', 'start': 49, 'end': 51}, {'entity': 'I-PER', 'score': 0.999223, 'index': 10, 'word': 'Kumar', 'start': 52, 'end': 57}, {'entity': 'I-PER', 'score': 0.99971884, 'index': 11, 'word': 'Mu', 'start': 58, 'end': 60}, {'entity': 'I-PER', 'score': 0.97929674, 'index': 12, 'word': '##kh', 'start': 60, 'end': 62}, {'entity': 'I-PER', 'score': 0.9965107, 'index': 13, 'word': '##erjee', 'start': 62, 'end': 67}, {'entity': 'B-PER', 'score': 0.99967504, 'index': 18, 'word': 'V', 'start': 83, 'end': 84}, {'entity': 'B-PER', 'score': 0.99889565, 'index': 19, 'word': '##ila', 'start': 84, 'end': 87}, {'entity': 'I-PER', 'score': 0.98389155, 'index': 20, 'word': '##ya', 'start': 87, 'end': 89}, {'entity': 'B-PER', 'score': 0.9105178, 'index': 21, 'word': '##t', 'start': 89, 'end': 90}, {'entity': 'I-PER', 'score': 0.999527, 'index': 22, 'word': 'Khan', 'start': 91, 'end': 95}, {'entity': 'B-PER', 'score': 0.9995851, 'index': 29, 'word': 'Ma', 'start': 117, 'end': 119}, {'entity': 'B-PER', 'score': 0.957537, 'index': 30, 'word': '##mon', 'start': 119, 'end': 122}, {'entity': 'B-PER', 'score': 0.7933509, 'index': 31, 'word': '##i', 'start': 122, 'end': 123}, {'entity': 'I-PER', 'score': 0.99939036, 'index': 32, 'word': 'Rai', 'start': 124, 'end': 127}, {'entity': 'I-PER', 'score': 0.9137965, 'index': 33, 'word': '##so', 'start': 127, 'end': 129}, {'entity': 'I-PER', 'score': 0.9967601, 'index': 35, 'word': 'Go', 'start': 131, 'end': 133}, {'entity': 'B-PER', 'score': 0.99953485, 'index': 43, 'word': 'Ka', 'start': 155, 'end': 157}, {'entity': 'B-PER', 'score': 0.85938966, 'index': 44, 'word': '##na', 'start': 157, 'end': 159}, {'entity': 'B-PER', 'score': 0.8111638, 'index': 45, 'word': '##k', 'start': 159, 'end': 160}, {'entity': 'I-PER', 'score': 0.99484116, 'index': 46, 'word': 'Sen', 'start': 161, 'end': 164}, {'entity': 'B-PER', 'score': 0.9997205, 'index': 57, 'word': 'Sal', 'start': 202, 'end': 205}, {'entity': 'B-PER', 'score': 0.9389667, 'index': 58, 'word': '##im', 'start': 205, 'end': 207}, {'entity': 'I-PER', 'score': 0.9995876, 'index': 59, 'word': 'Khan', 'start': 208, 'end': 212}, {'entity': 'B-MISC', 'score': 0.99629706, 'index': 62, 'word': 'Padma', 'start': 223, 'end': 228}, {'entity': 'I-MISC', 'score': 0.9959572, 'index': 63, 'word': 'Shri', 'start': 229, 'end': 233}, {'entity': 'B-PER', 'score': 0.9996834, 'index': 75, 'word': 'Sun', 'start': 295, 'end': 298}, {'entity': 'I-PER', 'score': 0.9361409, 'index': 76, 'word': '##der', 'start': 298, 'end': 301}, {'entity': 'I-PER', 'score': 0.99850947, 'index': 77, 'word': '##lal', 'start': 301, 'end': 304}, {'entity': 'I-PER', 'score': 0.99956864, 'index': 78, 'word': 'Ba', 'start': 305, 'end': 307}, {'entity': 'I-PER', 'score': 0.93397504, 'index': 79, 'word': '##hu', 'start': 307, 'end': 309}, {'entity': 'I-PER', 'score': 0.9938167, 'index': 80, 'word': '##gun', 'start': 309, 'end': 312}, {'entity': 'B-PER', 'score': 0.9997793, 'index': 91, 'word': 'Michael', 'start': 345, 'end': 352}, {'entity': 'I-PER', 'score': 0.99971586, 'index': 92, 'word': 'Fe', 'start': 353, 'end': 355}, {'entity': 'I-PER', 'score': 0.99758565, 'index': 93, 'word': '##rre', 'start': 355, 'end': 358}, {'entity': 'I-PER', 'score': 0.98952544, 'index': 94, 'word': '##ira', 'start': 358, 'end': 361}, {'entity': 'B-MISC', 'score': 0.9947266, 'index': 104, 'word': 'Padma', 'start': 413, 'end': 418}, {'entity': 'I-MISC', 'score': 0.9965983, 'index': 105, 'word': 'B', 'start': 419, 'end': 420}, {'entity': 'I-MISC', 'score': 0.98631775, 'index': 106, 'word': '##hus', 'start': 420, 'end': 423}, {'entity': 'I-MISC', 'score': 0.99266064, 'index': 107, 'word': '##han', 'start': 423, 'end': 426}, {'entity': 'I-MISC', 'score': 0.551777, 'index': 108, 'word': 'Padma', 'start': 427, 'end': 432}, {'entity': 'I-MISC', 'score': 0.99139506, 'index': 109, 'word': 'V', 'start': 433, 'end': 434}, {'entity': 'I-MISC', 'score': 0.9604946, 'index': 110, 'word': '##ib', 'start': 434, 'end': 436}, {'entity': 'I-MISC', 'score': 0.8134986, 'index': 111, 'word': '##hus', 'start': 436, 'end': 439}, {'entity': 'I-MISC', 'score': 0.93621343, 'index': 112, 'word': '##han', 'start': 439, 'end': 442}, {'entity': 'B-PER', 'score': 0.9995697, 'index': 120, 'word': 'Ari', 'start': 477, 'end': 480}, {'entity': 'I-PER', 'score': 0.9863783, 'index': 121, 'word': '##ba', 'start': 480, 'end': 482}, {'entity': 'I-PER', 'score': 0.9133344, 'index': 122, 'word': '##m', 'start': 482, 'end': 483}, {'entity': 'I-PER', 'score': 0.83903, 'index': 123, 'word': 'S', 'start': 484, 'end': 485}, {'entity': 'I-PER', 'score': 0.991106, 'index': 124, 'word': '##yam', 'start': 485, 'end': 488}, {'entity': 'I-PER', 'score': 0.9995826, 'index': 125, 'word': 'Sharma', 'start': 489, 'end': 495}, {'entity': 'B-PER', 'score': 0.9994955, 'index': 131, 'word': 'Ph', 'start': 509, 'end': 511}, {'entity': 'B-PER', 'score': 0.8953301, 'index': 132, 'word': '##ani', 'start': 511, 'end': 514}, {'entity': 'B-PER', 'score': 0.5427451, 'index': 133, 'word': '##sh', 'start': 514, 'end': 516}, {'entity': 'I-PER', 'score': 0.9381136, 'index': 134, 'word': '##war', 'start': 516, 'end': 519}, {'entity': 'I-PER', 'score': 0.99897397, 'index': 135, 'word': 'Nat', 'start': 520, 'end': 523}, {'entity': 'I-PER', 'score': 0.70633566, 'index': 136, 'word': '##h', 'start': 523, 'end': 524}, {'entity': 'B-MISC', 'score': 0.9990081, 'index': 145, 'word': 'Punjabi', 'start': 543, 'end': 550}, {'entity': 'B-PER', 'score': 0.9996031, 'index': 147, 'word': 'Dal', 'start': 558, 'end': 561}, {'entity': 'I-PER', 'score': 0.997332, 'index': 148, 'word': '##ip', 'start': 561, 'end': 563}, {'entity': 'I-PER', 'score': 0.9996692, 'index': 149, 'word': 'Ka', 'start': 564, 'end': 566}, {'entity': 'I-PER', 'score': 0.99338114, 'index': 150, 'word': '##ur', 'start': 566, 'end': 568}, {'entity': 'I-PER', 'score': 0.99763143, 'index': 151, 'word': 'T', 'start': 569, 'end': 570}, {'entity': 'I-PER', 'score': 0.95800316, 'index': 152, 'word': '##i', 'start': 570, 'end': 571}, {'entity': 'B-PER', 'score': 0.99943084, 'index': 159, 'word': 'Jaya', 'start': 591, 'end': 595}, {'entity': 'B-PER', 'score': 0.55716604, 'index': 160, 'word': '##nta', 'start': 595, 'end': 598}, {'entity': 'I-PER', 'score': 0.99960774, 'index': 161, 'word': 'Ma', 'start': 599, 'end': 601}, {'entity': 'I-PER', 'score': 0.9985574, 'index': 162, 'word': '##ha', 'start': 601, 'end': 603}, {'entity': 'I-PER', 'score': 0.99139273, 'index': 163, 'word': '##pa', 'start': 603, 'end': 605}, {'entity': 'I-PER', 'score': 0.5465885, 'index': 164, 'word': '##tra', 'start': 605, 'end': 608}, {'entity': 'B-MISC', 'score': 0.999361, 'index': 180, 'word': 'Bengali', 'start': 670, 'end': 677}, {'entity': 'B-PER', 'score': 0.86638284, 'index': 183, 'word': 'G', 'start': 687, 'end': 688}, {'entity': 'I-PER', 'score': 0.36492923, 'index': 185, 'word': '##hr', 'start': 692, 'end': 694}, {'entity': 'B-PER', 'score': 0.99938977, 'index': 188, 'word': 'Sand', 'start': 698, 'end': 702}, {'entity': 'I-PER', 'score': 0.8543363, 'index': 189, 'word': '##hya', 'start': 702, 'end': 705}, {'entity': 'I-PER', 'score': 0.99925965, 'index': 190, 'word': 'Mu', 'start': 706, 'end': 708}, {'entity': 'I-PER', 'score': 0.89167017, 'index': 191, 'word': '##kh', 'start': 708, 'end': 710}, {'entity': 'I-PER', 'score': 0.8557887, 'index': 192, 'word': '##op', 'start': 710, 'end': 712}, {'entity': 'I-PER', 'score': 0.6919081, 'index': 193, 'word': '##ad', 'start': 712, 'end': 714}, {'entity': 'B-MISC', 'score': 0.99241674, 'index': 200, 'word': 'Padma', 'start': 735, 'end': 740}, {'entity': 'I-MISC', 'score': 0.99219817, 'index': 201, 'word': 'Shri', 'start': 741, 'end': 745}, {'entity': 'B-MISC', 'score': 0.9707682, 'index': 206, 'word': 'Republic', 'start': 761, 'end': 769}, {'entity': 'I-MISC', 'score': 0.9684485, 'index': 207, 'word': 'Day', 'start': 770, 'end': 773}, {'entity': 'I-MISC', 'score': 0.8514507, 'index': 208, 'word': 'India', 'start': 774, 'end': 779}, {'entity': 'B-MISC', 'score': 0.99082386, 'index': 225, 'word': 'Padma', 'start': 873, 'end': 878}, {'entity': 'I-MISC', 'score': 0.99195826, 'index': 226, 'word': 'Shri', 'start': 879, 'end': 883}, {'entity': 'B-MISC', 'score': 0.9829579, 'index': 229, 'word': 'Padma', 'start': 888, 'end': 893}, {'entity': 'I-MISC', 'score': 0.9785261, 'index': 230, 'word': 'Shri', 'start': 894, 'end': 898}, {'entity': 'B-MISC', 'score': 0.7206344, 'index': 247, 'word': 'Padma', 'start': 969, 'end': 974}]\n"
          ]
        }
      ]
    },
    {
      "cell_type": "code",
      "source": [
        "names = []\n",
        "tags = []\n",
        "for ent in ner_results:\n",
        "  names.append(ent['word'])\n",
        "  tags.append(ent['entity'])"
      ],
      "metadata": {
        "id": "mLCpw2dqMOIt"
      },
      "execution_count": 103,
      "outputs": []
    },
    {
      "cell_type": "code",
      "source": [
        "names = pd.Series(names)\n",
        "tags = pd.Series(tags)"
      ],
      "metadata": {
        "id": "AFtHyJDhMu9m"
      },
      "execution_count": 104,
      "outputs": []
    },
    {
      "cell_type": "code",
      "source": [
        "dict = {'Name' : names, 'Tag' : tags}\n",
        "named_entities_df = pd.DataFrame(data=dict)"
      ],
      "metadata": {
        "id": "gEXJWvEpM2Oj"
      },
      "execution_count": 105,
      "outputs": []
    },
    {
      "cell_type": "code",
      "source": [
        "named_entities_df.head(50)"
      ],
      "metadata": {
        "colab": {
          "base_uri": "https://localhost:8080/",
          "height": 1000
        },
        "id": "WJbCXAINNVif",
        "outputId": "a3097b4d-215b-4036-c75e-ed7a118249a1"
      },
      "execution_count": 106,
      "outputs": [
        {
          "output_type": "execute_result",
          "data": {
            "text/plain": [
              "       Name     Tag\n",
              "0        He   B-PER\n",
              "1     ##man   B-PER\n",
              "2      ##ta   B-PER\n",
              "3     Kumar   I-PER\n",
              "4        Mu   I-PER\n",
              "5      ##kh   I-PER\n",
              "6   ##erjee   I-PER\n",
              "7         V   B-PER\n",
              "8     ##ila   B-PER\n",
              "9      ##ya   I-PER\n",
              "10      ##t   B-PER\n",
              "11     Khan   I-PER\n",
              "12       Ma   B-PER\n",
              "13    ##mon   B-PER\n",
              "14      ##i   B-PER\n",
              "15      Rai   I-PER\n",
              "16     ##so   I-PER\n",
              "17       Go   I-PER\n",
              "18       Ka   B-PER\n",
              "19     ##na   B-PER\n",
              "20      ##k   B-PER\n",
              "21      Sen   I-PER\n",
              "22      Sal   B-PER\n",
              "23     ##im   B-PER\n",
              "24     Khan   I-PER\n",
              "25    Padma  B-MISC\n",
              "26     Shri  I-MISC\n",
              "27      Sun   B-PER\n",
              "28    ##der   I-PER\n",
              "29    ##lal   I-PER\n",
              "30       Ba   I-PER\n",
              "31     ##hu   I-PER\n",
              "32    ##gun   I-PER\n",
              "33  Michael   B-PER\n",
              "34       Fe   I-PER\n",
              "35    ##rre   I-PER\n",
              "36    ##ira   I-PER\n",
              "37    Padma  B-MISC\n",
              "38        B  I-MISC\n",
              "39    ##hus  I-MISC\n",
              "40    ##han  I-MISC\n",
              "41    Padma  I-MISC\n",
              "42        V  I-MISC\n",
              "43     ##ib  I-MISC\n",
              "44    ##hus  I-MISC\n",
              "45    ##han  I-MISC\n",
              "46      Ari   B-PER\n",
              "47     ##ba   I-PER\n",
              "48      ##m   I-PER\n",
              "49        S   I-PER"
            ],
            "text/html": [
              "\n",
              "  <div id=\"df-69dcca20-8eb0-4acd-91fd-01695bbbc222\">\n",
              "    <div class=\"colab-df-container\">\n",
              "      <div>\n",
              "<style scoped>\n",
              "    .dataframe tbody tr th:only-of-type {\n",
              "        vertical-align: middle;\n",
              "    }\n",
              "\n",
              "    .dataframe tbody tr th {\n",
              "        vertical-align: top;\n",
              "    }\n",
              "\n",
              "    .dataframe thead th {\n",
              "        text-align: right;\n",
              "    }\n",
              "</style>\n",
              "<table border=\"1\" class=\"dataframe\">\n",
              "  <thead>\n",
              "    <tr style=\"text-align: right;\">\n",
              "      <th></th>\n",
              "      <th>Name</th>\n",
              "      <th>Tag</th>\n",
              "    </tr>\n",
              "  </thead>\n",
              "  <tbody>\n",
              "    <tr>\n",
              "      <th>0</th>\n",
              "      <td>He</td>\n",
              "      <td>B-PER</td>\n",
              "    </tr>\n",
              "    <tr>\n",
              "      <th>1</th>\n",
              "      <td>##man</td>\n",
              "      <td>B-PER</td>\n",
              "    </tr>\n",
              "    <tr>\n",
              "      <th>2</th>\n",
              "      <td>##ta</td>\n",
              "      <td>B-PER</td>\n",
              "    </tr>\n",
              "    <tr>\n",
              "      <th>3</th>\n",
              "      <td>Kumar</td>\n",
              "      <td>I-PER</td>\n",
              "    </tr>\n",
              "    <tr>\n",
              "      <th>4</th>\n",
              "      <td>Mu</td>\n",
              "      <td>I-PER</td>\n",
              "    </tr>\n",
              "    <tr>\n",
              "      <th>5</th>\n",
              "      <td>##kh</td>\n",
              "      <td>I-PER</td>\n",
              "    </tr>\n",
              "    <tr>\n",
              "      <th>6</th>\n",
              "      <td>##erjee</td>\n",
              "      <td>I-PER</td>\n",
              "    </tr>\n",
              "    <tr>\n",
              "      <th>7</th>\n",
              "      <td>V</td>\n",
              "      <td>B-PER</td>\n",
              "    </tr>\n",
              "    <tr>\n",
              "      <th>8</th>\n",
              "      <td>##ila</td>\n",
              "      <td>B-PER</td>\n",
              "    </tr>\n",
              "    <tr>\n",
              "      <th>9</th>\n",
              "      <td>##ya</td>\n",
              "      <td>I-PER</td>\n",
              "    </tr>\n",
              "    <tr>\n",
              "      <th>10</th>\n",
              "      <td>##t</td>\n",
              "      <td>B-PER</td>\n",
              "    </tr>\n",
              "    <tr>\n",
              "      <th>11</th>\n",
              "      <td>Khan</td>\n",
              "      <td>I-PER</td>\n",
              "    </tr>\n",
              "    <tr>\n",
              "      <th>12</th>\n",
              "      <td>Ma</td>\n",
              "      <td>B-PER</td>\n",
              "    </tr>\n",
              "    <tr>\n",
              "      <th>13</th>\n",
              "      <td>##mon</td>\n",
              "      <td>B-PER</td>\n",
              "    </tr>\n",
              "    <tr>\n",
              "      <th>14</th>\n",
              "      <td>##i</td>\n",
              "      <td>B-PER</td>\n",
              "    </tr>\n",
              "    <tr>\n",
              "      <th>15</th>\n",
              "      <td>Rai</td>\n",
              "      <td>I-PER</td>\n",
              "    </tr>\n",
              "    <tr>\n",
              "      <th>16</th>\n",
              "      <td>##so</td>\n",
              "      <td>I-PER</td>\n",
              "    </tr>\n",
              "    <tr>\n",
              "      <th>17</th>\n",
              "      <td>Go</td>\n",
              "      <td>I-PER</td>\n",
              "    </tr>\n",
              "    <tr>\n",
              "      <th>18</th>\n",
              "      <td>Ka</td>\n",
              "      <td>B-PER</td>\n",
              "    </tr>\n",
              "    <tr>\n",
              "      <th>19</th>\n",
              "      <td>##na</td>\n",
              "      <td>B-PER</td>\n",
              "    </tr>\n",
              "    <tr>\n",
              "      <th>20</th>\n",
              "      <td>##k</td>\n",
              "      <td>B-PER</td>\n",
              "    </tr>\n",
              "    <tr>\n",
              "      <th>21</th>\n",
              "      <td>Sen</td>\n",
              "      <td>I-PER</td>\n",
              "    </tr>\n",
              "    <tr>\n",
              "      <th>22</th>\n",
              "      <td>Sal</td>\n",
              "      <td>B-PER</td>\n",
              "    </tr>\n",
              "    <tr>\n",
              "      <th>23</th>\n",
              "      <td>##im</td>\n",
              "      <td>B-PER</td>\n",
              "    </tr>\n",
              "    <tr>\n",
              "      <th>24</th>\n",
              "      <td>Khan</td>\n",
              "      <td>I-PER</td>\n",
              "    </tr>\n",
              "    <tr>\n",
              "      <th>25</th>\n",
              "      <td>Padma</td>\n",
              "      <td>B-MISC</td>\n",
              "    </tr>\n",
              "    <tr>\n",
              "      <th>26</th>\n",
              "      <td>Shri</td>\n",
              "      <td>I-MISC</td>\n",
              "    </tr>\n",
              "    <tr>\n",
              "      <th>27</th>\n",
              "      <td>Sun</td>\n",
              "      <td>B-PER</td>\n",
              "    </tr>\n",
              "    <tr>\n",
              "      <th>28</th>\n",
              "      <td>##der</td>\n",
              "      <td>I-PER</td>\n",
              "    </tr>\n",
              "    <tr>\n",
              "      <th>29</th>\n",
              "      <td>##lal</td>\n",
              "      <td>I-PER</td>\n",
              "    </tr>\n",
              "    <tr>\n",
              "      <th>30</th>\n",
              "      <td>Ba</td>\n",
              "      <td>I-PER</td>\n",
              "    </tr>\n",
              "    <tr>\n",
              "      <th>31</th>\n",
              "      <td>##hu</td>\n",
              "      <td>I-PER</td>\n",
              "    </tr>\n",
              "    <tr>\n",
              "      <th>32</th>\n",
              "      <td>##gun</td>\n",
              "      <td>I-PER</td>\n",
              "    </tr>\n",
              "    <tr>\n",
              "      <th>33</th>\n",
              "      <td>Michael</td>\n",
              "      <td>B-PER</td>\n",
              "    </tr>\n",
              "    <tr>\n",
              "      <th>34</th>\n",
              "      <td>Fe</td>\n",
              "      <td>I-PER</td>\n",
              "    </tr>\n",
              "    <tr>\n",
              "      <th>35</th>\n",
              "      <td>##rre</td>\n",
              "      <td>I-PER</td>\n",
              "    </tr>\n",
              "    <tr>\n",
              "      <th>36</th>\n",
              "      <td>##ira</td>\n",
              "      <td>I-PER</td>\n",
              "    </tr>\n",
              "    <tr>\n",
              "      <th>37</th>\n",
              "      <td>Padma</td>\n",
              "      <td>B-MISC</td>\n",
              "    </tr>\n",
              "    <tr>\n",
              "      <th>38</th>\n",
              "      <td>B</td>\n",
              "      <td>I-MISC</td>\n",
              "    </tr>\n",
              "    <tr>\n",
              "      <th>39</th>\n",
              "      <td>##hus</td>\n",
              "      <td>I-MISC</td>\n",
              "    </tr>\n",
              "    <tr>\n",
              "      <th>40</th>\n",
              "      <td>##han</td>\n",
              "      <td>I-MISC</td>\n",
              "    </tr>\n",
              "    <tr>\n",
              "      <th>41</th>\n",
              "      <td>Padma</td>\n",
              "      <td>I-MISC</td>\n",
              "    </tr>\n",
              "    <tr>\n",
              "      <th>42</th>\n",
              "      <td>V</td>\n",
              "      <td>I-MISC</td>\n",
              "    </tr>\n",
              "    <tr>\n",
              "      <th>43</th>\n",
              "      <td>##ib</td>\n",
              "      <td>I-MISC</td>\n",
              "    </tr>\n",
              "    <tr>\n",
              "      <th>44</th>\n",
              "      <td>##hus</td>\n",
              "      <td>I-MISC</td>\n",
              "    </tr>\n",
              "    <tr>\n",
              "      <th>45</th>\n",
              "      <td>##han</td>\n",
              "      <td>I-MISC</td>\n",
              "    </tr>\n",
              "    <tr>\n",
              "      <th>46</th>\n",
              "      <td>Ari</td>\n",
              "      <td>B-PER</td>\n",
              "    </tr>\n",
              "    <tr>\n",
              "      <th>47</th>\n",
              "      <td>##ba</td>\n",
              "      <td>I-PER</td>\n",
              "    </tr>\n",
              "    <tr>\n",
              "      <th>48</th>\n",
              "      <td>##m</td>\n",
              "      <td>I-PER</td>\n",
              "    </tr>\n",
              "    <tr>\n",
              "      <th>49</th>\n",
              "      <td>S</td>\n",
              "      <td>I-PER</td>\n",
              "    </tr>\n",
              "  </tbody>\n",
              "</table>\n",
              "</div>\n",
              "      <button class=\"colab-df-convert\" onclick=\"convertToInteractive('df-69dcca20-8eb0-4acd-91fd-01695bbbc222')\"\n",
              "              title=\"Convert this dataframe to an interactive table.\"\n",
              "              style=\"display:none;\">\n",
              "        \n",
              "  <svg xmlns=\"http://www.w3.org/2000/svg\" height=\"24px\"viewBox=\"0 0 24 24\"\n",
              "       width=\"24px\">\n",
              "    <path d=\"M0 0h24v24H0V0z\" fill=\"none\"/>\n",
              "    <path d=\"M18.56 5.44l.94 2.06.94-2.06 2.06-.94-2.06-.94-.94-2.06-.94 2.06-2.06.94zm-11 1L8.5 8.5l.94-2.06 2.06-.94-2.06-.94L8.5 2.5l-.94 2.06-2.06.94zm10 10l.94 2.06.94-2.06 2.06-.94-2.06-.94-.94-2.06-.94 2.06-2.06.94z\"/><path d=\"M17.41 7.96l-1.37-1.37c-.4-.4-.92-.59-1.43-.59-.52 0-1.04.2-1.43.59L10.3 9.45l-7.72 7.72c-.78.78-.78 2.05 0 2.83L4 21.41c.39.39.9.59 1.41.59.51 0 1.02-.2 1.41-.59l7.78-7.78 2.81-2.81c.8-.78.8-2.07 0-2.86zM5.41 20L4 18.59l7.72-7.72 1.47 1.35L5.41 20z\"/>\n",
              "  </svg>\n",
              "      </button>\n",
              "      \n",
              "  <style>\n",
              "    .colab-df-container {\n",
              "      display:flex;\n",
              "      flex-wrap:wrap;\n",
              "      gap: 12px;\n",
              "    }\n",
              "\n",
              "    .colab-df-convert {\n",
              "      background-color: #E8F0FE;\n",
              "      border: none;\n",
              "      border-radius: 50%;\n",
              "      cursor: pointer;\n",
              "      display: none;\n",
              "      fill: #1967D2;\n",
              "      height: 32px;\n",
              "      padding: 0 0 0 0;\n",
              "      width: 32px;\n",
              "    }\n",
              "\n",
              "    .colab-df-convert:hover {\n",
              "      background-color: #E2EBFA;\n",
              "      box-shadow: 0px 1px 2px rgba(60, 64, 67, 0.3), 0px 1px 3px 1px rgba(60, 64, 67, 0.15);\n",
              "      fill: #174EA6;\n",
              "    }\n",
              "\n",
              "    [theme=dark] .colab-df-convert {\n",
              "      background-color: #3B4455;\n",
              "      fill: #D2E3FC;\n",
              "    }\n",
              "\n",
              "    [theme=dark] .colab-df-convert:hover {\n",
              "      background-color: #434B5C;\n",
              "      box-shadow: 0px 1px 3px 1px rgba(0, 0, 0, 0.15);\n",
              "      filter: drop-shadow(0px 1px 2px rgba(0, 0, 0, 0.3));\n",
              "      fill: #FFFFFF;\n",
              "    }\n",
              "  </style>\n",
              "\n",
              "      <script>\n",
              "        const buttonEl =\n",
              "          document.querySelector('#df-69dcca20-8eb0-4acd-91fd-01695bbbc222 button.colab-df-convert');\n",
              "        buttonEl.style.display =\n",
              "          google.colab.kernel.accessAllowed ? 'block' : 'none';\n",
              "\n",
              "        async function convertToInteractive(key) {\n",
              "          const element = document.querySelector('#df-69dcca20-8eb0-4acd-91fd-01695bbbc222');\n",
              "          const dataTable =\n",
              "            await google.colab.kernel.invokeFunction('convertToInteractive',\n",
              "                                                     [key], {});\n",
              "          if (!dataTable) return;\n",
              "\n",
              "          const docLinkHtml = 'Like what you see? Visit the ' +\n",
              "            '<a target=\"_blank\" href=https://colab.research.google.com/notebooks/data_table.ipynb>data table notebook</a>'\n",
              "            + ' to learn more about interactive tables.';\n",
              "          element.innerHTML = '';\n",
              "          dataTable['output_type'] = 'display_data';\n",
              "          await google.colab.output.renderOutput(dataTable, element);\n",
              "          const docLink = document.createElement('div');\n",
              "          docLink.innerHTML = docLinkHtml;\n",
              "          element.appendChild(docLink);\n",
              "        }\n",
              "      </script>\n",
              "    </div>\n",
              "  </div>\n",
              "  "
            ]
          },
          "metadata": {},
          "execution_count": 106
        }
      ]
    },
    {
      "cell_type": "code",
      "source": [
        "names"
      ],
      "metadata": {
        "colab": {
          "base_uri": "https://localhost:8080/"
        },
        "id": "fKK7g4Y5NXeG",
        "outputId": "75f8acad-2ed1-4a15-87fd-13e57471d98e"
      },
      "execution_count": 99,
      "outputs": [
        {
          "output_type": "execute_result",
          "data": {
            "text/plain": [
              "0         He\n",
              "1      ##man\n",
              "2       ##ta\n",
              "3      Kumar\n",
              "4         Mu\n",
              "       ...  \n",
              "97      Shri\n",
              "98     Padma\n",
              "99      Shri\n",
              "100    Padma\n",
              "101    award\n",
              "Length: 102, dtype: object"
            ]
          },
          "metadata": {},
          "execution_count": 99
        }
      ]
    },
    {
      "cell_type": "code",
      "source": [
        ""
      ],
      "metadata": {
        "id": "Z7CGSb9-Nr1j"
      },
      "execution_count": null,
      "outputs": []
    }
  ]
}